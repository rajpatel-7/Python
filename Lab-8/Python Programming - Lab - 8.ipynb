{
 "cells": [
  {
   "cell_type": "markdown",
   "metadata": {},
   "source": [
    "<a href='https://www.darshan.ac.in/'> <img src='https://www.darshan.ac.in/Content/media/DU_Logo.svg' width=\"250\" height=\"300\"/></a>\n",
    "<pre>\n",
    "<center><b><h1>Python Programming - 2301CS404</b></center>\n",
    "<center><b><h1>Lab - 8</b></center>    \n",
    "<pre>"
   ]
  },
  {
   "cell_type": "markdown",
   "metadata": {},
   "source": [
    "# User Defined Function"
   ]
  },
  {
   "cell_type": "markdown",
   "metadata": {},
   "source": [
    "### 01) Write a function to calculate BMI given mass and height. (BMI = mass/h**2)"
   ]
  },
  {
   "cell_type": "code",
   "execution_count": 13,
   "metadata": {},
   "outputs": [
    {
     "name": "stdout",
     "output_type": "stream",
     "text": [
      "Enter mass : 50\n",
      "Enter height : 70\n",
      "BMI: 0.01020408163265306\n"
     ]
    }
   ],
   "source": [
    "def calculate_bmi(mass, height):\n",
    "    return mass / (height ** 2); \n",
    "\n",
    "mass=int(input(\"Enter mass : \"))\n",
    "height=int(input(\"Enter height : \"))\n",
    "\n",
    "print(\"BMI:\", calculate_bmi(mass, height))"
   ]
  },
  {
   "cell_type": "markdown",
   "metadata": {},
   "source": [
    "### 02) Write a function that add first n numbers."
   ]
  },
  {
   "cell_type": "code",
   "execution_count": 14,
   "metadata": {},
   "outputs": [
    {
     "name": "stdout",
     "output_type": "stream",
     "text": [
      "Enter number : 10\n",
      "Sum of first 10 numbers is : 55\n"
     ]
    }
   ],
   "source": [
    "def first_n_numbers(n):\n",
    "    return n * (n + 1) // 2\n",
    "\n",
    "n= int(input(\"Enter number : \"))\n",
    "print(\"Sum of first\", n, \"numbers is :\", first_n_numbers(n))"
   ]
  },
  {
   "cell_type": "markdown",
   "metadata": {},
   "source": [
    "### 03) Write a function that returns 1 if the given number is Prime or 0 otherwise."
   ]
  },
  {
   "cell_type": "code",
   "execution_count": 16,
   "metadata": {},
   "outputs": [
    {
     "name": "stdout",
     "output_type": "stream",
     "text": [
      "Enter number : 3\n",
      "3 is Prime: 1\n"
     ]
    }
   ],
   "source": [
    "def is_prime(num):\n",
    "    if num <= 1:\n",
    "        return 0\n",
    "    for i in range(2, int(num ** 0.5) + 1):\n",
    "        if num % i == 0:\n",
    "            return 0\n",
    "    return 1\n",
    "\n",
    "num=int(input(\"Enter number : \"))\n",
    "print(f\"{num} is Prime:\", is_prime(num))\n"
   ]
  },
  {
   "cell_type": "markdown",
   "metadata": {},
   "source": [
    "### 04) Write a function that returns the list of Prime numbers between given two numbers."
   ]
  },
  {
   "cell_type": "code",
   "execution_count": 17,
   "metadata": {},
   "outputs": [
    {
     "name": "stdout",
     "output_type": "stream",
     "text": [
      "Enter start number : 1\n",
      "Enter end number : 10\n",
      "Prime numbers between 1 and 10 :  [2, 3, 5, 7]\n"
     ]
    }
   ],
   "source": [
    "def primes_between(start, end):\n",
    "    primes = []\n",
    "    for num in range(start, end + 1):\n",
    "        if is_prime(num):\n",
    "            primes.append(num)\n",
    "    return primes\n",
    "\n",
    "\n",
    "start=int(input(\"Enter start number : \"))\n",
    "end=int(input(\"Enter end number : \"))\n",
    "\n",
    "print(f\"Prime numbers between {start} and {end} : \", primes_between(start, end))"
   ]
  },
  {
   "cell_type": "markdown",
   "metadata": {},
   "source": [
    "### 05) Write a function that returns True if the given string is Palindrome or False otherwise."
   ]
  },
  {
   "cell_type": "code",
   "execution_count": 18,
   "metadata": {},
   "outputs": [
    {
     "name": "stdout",
     "output_type": "stream",
     "text": [
      "Enter String : abcba\n",
      "Is 'abcba' a palindrome: True\n"
     ]
    }
   ],
   "source": [
    "def is_palindrome(s):\n",
    "    return s == s[::-1]\n",
    "\n",
    "\n",
    "s=str(input(\"Enter String : \"))\n",
    "print(f\"Is '{s}' a palindrome:\", is_palindrome(s))"
   ]
  },
  {
   "cell_type": "markdown",
   "metadata": {},
   "source": [
    "### 06) Write a function that returns the sum of all the elements of the list."
   ]
  },
  {
   "cell_type": "code",
   "execution_count": 19,
   "metadata": {},
   "outputs": [
    {
     "name": "stdout",
     "output_type": "stream",
     "text": [
      "Sum of elements: 15\n"
     ]
    }
   ],
   "source": [
    "def sum_of_elements(lst):\n",
    "    return sum(lst)\n",
    "\n",
    "lst = [1, 2, 3, 4, 5]\n",
    "print(\"Sum of elements:\", sum_of_elements(lst))"
   ]
  },
  {
   "cell_type": "markdown",
   "metadata": {},
   "source": [
    "### 07) Write a function to calculate the sum of the first element of each tuples inside the list."
   ]
  },
  {
   "cell_type": "code",
   "execution_count": 20,
   "metadata": {},
   "outputs": [
    {
     "name": "stdout",
     "output_type": "stream",
     "text": [
      "Sum of first elements: 9\n"
     ]
    }
   ],
   "source": [
    "def sum_first_elements(lst):\n",
    "    return sum(x[0] for x in lst)\n",
    "\n",
    "lst_of_tuples = [(1, 2), (3, 4), (5, 6)]\n",
    "print(\"Sum of first elements:\", sum_first_elements(lst_of_tuples))"
   ]
  },
  {
   "cell_type": "markdown",
   "metadata": {},
   "source": [
    "### 08) Write a recursive function to find nth term of Fibonacci Series."
   ]
  },
  {
   "cell_type": "code",
   "execution_count": 21,
   "metadata": {},
   "outputs": [
    {
     "name": "stdout",
     "output_type": "stream",
     "text": [
      "Enter number : 9\n",
      "The 9th Fibonacci number: 34\n"
     ]
    }
   ],
   "source": [
    "def fibonacci(num1):\n",
    "    if num1 <= 1:\n",
    "        return num1\n",
    "    return fibonacci(num1 - 1) + fibonacci(num1 - 2)\n",
    "\n",
    "\n",
    "num1 = int(input(\"Enter number : \"))\n",
    "print(f\"The {num1}th Fibonacci number:\", fibonacci(num1))"
   ]
  },
  {
   "cell_type": "markdown",
   "metadata": {},
   "source": [
    "### 09) Write a function to get the name of the student based on the given rollno.\n",
    "#### Example: Given dict1 = {101:'Ajay', 102:'Rahul', 103:'Jay', 104:'Pooja'} find name of student whose rollno = 103"
   ]
  },
  {
   "cell_type": "code",
   "execution_count": 23,
   "metadata": {},
   "outputs": [
    {
     "name": "stdout",
     "output_type": "stream",
     "text": [
      "Enter roll_number : 102\n",
      "Student with rollno 102: Rahul\n"
     ]
    }
   ],
   "source": [
    "def get_student_name(rollno, dict1):\n",
    "    return dict1.get(rollno, \"Student not found\")\n",
    "\n",
    "\n",
    "dict1 = {101: 'Ajay', 102: 'Rahul', 103: 'Jay', 104: 'Pooja'}\n",
    "rollno= int(input(\"Enter roll_number : \"))\n",
    "print(f\"Student with rollno {rollno}:\", get_student_name(rollno, dict1))"
   ]
  },
  {
   "cell_type": "markdown",
   "metadata": {},
   "source": [
    "### 10) Write a function to get the sum of the scores ending with zero.\n",
    "#### Example : scores = [200, 456, 300, 100, 234, 678] \n",
    "#### Ans = 200 + 300 + 100 = 600"
   ]
  },
  {
   "cell_type": "code",
   "execution_count": 24,
   "metadata": {},
   "outputs": [
    {
     "name": "stdout",
     "output_type": "stream",
     "text": [
      "Sum of scores ending with zero: 600\n"
     ]
    }
   ],
   "source": [
    "def sum_scores_ending_with_zero(scores):\n",
    "    return sum(score for score in scores if score % 10 == 0)\n",
    "\n",
    "scores = [200, 456, 300, 100, 234, 678]\n",
    "print(\"Sum of scores ending with zero:\", sum_scores_ending_with_zero(scores))"
   ]
  },
  {
   "cell_type": "markdown",
   "metadata": {},
   "source": [
    "### 11) Write a function to invert a given Dictionary.\n",
    "#### hint: keys to values & values to keys\n",
    "#### Before : {'a': 10, 'b':20, 'c':30, 'd':40}\n",
    "#### After : {10:'a', 20:'b', 30:'c', 40:'d'}"
   ]
  },
  {
   "cell_type": "code",
   "execution_count": 25,
   "metadata": {},
   "outputs": [
    {
     "name": "stdout",
     "output_type": "stream",
     "text": [
      "Inverted Dictionary: {10: 'a', 20: 'b', 30: 'c', 40: 'd'}\n"
     ]
    }
   ],
   "source": [
    "def invert_dict(d):\n",
    "    return {v: k for k, v in d.items()}\n",
    "\n",
    "d = {'a': 10, 'b': 20, 'c': 30, 'd': 40}\n",
    "print(\"Inverted Dictionary:\", invert_dict(d))"
   ]
  },
  {
   "cell_type": "markdown",
   "metadata": {},
   "source": [
    "### 12) Write a function to check whether the given string is Pangram or not.\n",
    "#### hint: Pangram is a string containing all the characters a-z atlest once.\n",
    "#### \"the quick brown fox jumps over the lazy dog\" is a Pangram string."
   ]
  },
  {
   "cell_type": "code",
   "execution_count": 26,
   "metadata": {},
   "outputs": [
    {
     "name": "stdout",
     "output_type": "stream",
     "text": [
      "Is the string a Pangram? True\n"
     ]
    }
   ],
   "source": [
    "def is_pangram(s):\n",
    "    return set(s.lower()) >= set('abcdefghijklmnopqrstuvwxyz')\n",
    "\n",
    "\n",
    "pangram = \"the quick brown fox jumps over the lazy dog\"\n",
    "print(f\"Is the string a Pangram? {is_pangram(pangram)}\")"
   ]
  },
  {
   "cell_type": "markdown",
   "metadata": {},
   "source": [
    "### 13) Write a function that returns the number of uppercase and lowercase letters in the given string. \n",
    "#### example : Input : s1 = AbcDEfgh ,Ouptput : no_upper = 3, no_lower = 5"
   ]
  },
  {
   "cell_type": "code",
   "execution_count": 31,
   "metadata": {},
   "outputs": [
    {
     "name": "stdout",
     "output_type": "stream",
     "text": [
      "Uppercase and Lowercase count in 'AbcDEfgh': (3, 5)\n"
     ]
    }
   ],
   "source": [
    "def count_upper_lower(s):\n",
    "    no_upper = sum(1 for c in s if c.isupper())\n",
    "    no_lower = sum(1 for c in s if c.islower())\n",
    "    return no_upper, no_lower\n",
    "\n",
    "s1 = \"AbcDEfgh\"\n",
    "print(f\"Uppercase and Lowercase count in '{s1}':\", count_upper_lower(s1))"
   ]
  },
  {
   "cell_type": "markdown",
   "metadata": {},
   "source": [
    "### 14) Write a lambda function to get smallest number from the given two numbers."
   ]
  },
  {
   "cell_type": "code",
   "execution_count": 36,
   "metadata": {},
   "outputs": [
    {
     "name": "stdout",
     "output_type": "stream",
     "text": [
      "Smallest between 10 and 8 is 8\n"
     ]
    }
   ],
   "source": [
    "smallest = lambda x, y: x if x < y else y\n",
    "\n",
    "\n",
    "print(\"Smallest between 10 and 8 is\", smallest(10, 8))"
   ]
  },
  {
   "cell_type": "markdown",
   "metadata": {},
   "source": [
    "### 15) For the given list of names of students, extract the names having more that 7 characters. Use filter()."
   ]
  },
  {
   "cell_type": "code",
   "execution_count": 37,
   "metadata": {},
   "outputs": [
    {
     "name": "stdout",
     "output_type": "stream",
     "text": [
      "Names with more than 7 characters: ['ababababa', 'abcabcabc']\n"
     ]
    }
   ],
   "source": [
    "def filter_long_names(names):\n",
    "    return list(filter(lambda name: len(name) > 7, names))\n",
    "\n",
    "names = ['abcabc', 'ababababa', 'abc', 'ab', 'abcabcabc']\n",
    "print(\"Names with more than 7 characters:\", filter_long_names(names))"
   ]
  },
  {
   "cell_type": "markdown",
   "metadata": {},
   "source": [
    "### 16) For the given list of names of students, convert the first letter of all the names into uppercase. use map()."
   ]
  },
  {
   "cell_type": "code",
   "execution_count": 38,
   "metadata": {},
   "outputs": [
    {
     "name": "stdout",
     "output_type": "stream",
     "text": [
      "Capitalized Names: ['Abcabc', 'Ababab', 'Abcdef']\n"
     ]
    }
   ],
   "source": [
    "def capitalize_names(names):\n",
    "    return list(map(lambda name: name.capitalize(), names))\n",
    "\n",
    "names = ['abcabc', 'ababab', 'abcdef']\n",
    "print(\"Capitalized Names:\", capitalize_names(names))"
   ]
  },
  {
   "cell_type": "markdown",
   "metadata": {},
   "source": [
    "### 17) Write udfs to call the functions with following types of arguments:\n",
    "1. Positional Arguments\n",
    "2. Keyword Arguments\n",
    "3. Default Arguments\n",
    "4. Variable Legngth Positional(*args) & variable length Keyword Arguments (**kwargs)\n",
    "5. Keyword-Only & Positional Only Arguments"
   ]
  },
  {
   "cell_type": "code",
   "execution_count": 40,
   "metadata": {},
   "outputs": [
    {
     "name": "stdout",
     "output_type": "stream",
     "text": [
      "Positional args: 1, 2\n",
      "Keyword args: first, second\n",
      "Default args: 1, default\n",
      "Variable length positional arguments: (1, 2, 3, 4)\n",
      "Variable length keyword arguments: {'arg1': 'a', 'arg2': 'b'}\n",
      "pos1: 10, pos2: 20, kwarg1: kwarg1, kwarg2: kwarg2\n"
     ]
    }
   ],
   "source": [
    "# Positional Arguments\n",
    "def positional_args(arg1, arg2):\n",
    "    print(f\"Positional args: {arg1}, {arg2}\")\n",
    "\n",
    "# Keyword Arguments\n",
    "def keyword_args(arg1, arg2):\n",
    "    print(f\"Keyword args: {arg1}, {arg2}\")\n",
    "\n",
    "# Default Arguments\n",
    "def default_args(arg1, arg2='default'):\n",
    "    print(f\"Default args: {arg1}, {arg2}\")\n",
    "\n",
    "# Variable Length Positional Arguments (*args)\n",
    "def variable_length_positional(*args):\n",
    "    print(\"Variable length positional arguments:\", args)\n",
    "\n",
    "# Variable Length Keyword Arguments (**kwargs)\n",
    "def variable_length_keyword(**kwargs):\n",
    "    print(\"Variable length keyword arguments:\", kwargs)\n",
    "\n",
    "# Keyword-Only & Positional Only Arguments\n",
    "def example_function(pos1, pos2, /, kwarg1, kwarg2, *args, **kwargs):\n",
    "    print(f\"pos1: {pos1}, pos2: {pos2}, kwarg1: {kwarg1}, kwarg2: {kwarg2}\")\n",
    "    \n",
    "\n",
    "positional_args(1, 2)\n",
    "keyword_args(arg1=\"first\", arg2=\"second\")\n",
    "default_args(1)\n",
    "variable_length_positional(1, 2, 3, 4)\n",
    "variable_length_keyword(arg1=\"a\", arg2=\"b\")\n",
    "example_function(10, 20, kwarg1=\"kwarg1\", kwarg2=\"kwarg2\", extra=\"extra\")"
   ]
  },
  {
   "cell_type": "code",
   "execution_count": null,
   "metadata": {},
   "outputs": [],
   "source": []
  }
 ],
 "metadata": {
  "kernelspec": {
   "display_name": "Python 3 (ipykernel)",
   "language": "python",
   "name": "python3"
  },
  "language_info": {
   "codemirror_mode": {
    "name": "ipython",
    "version": 3
   },
   "file_extension": ".py",
   "mimetype": "text/x-python",
   "name": "python",
   "nbconvert_exporter": "python",
   "pygments_lexer": "ipython3",
   "version": "3.10.9"
  }
 },
 "nbformat": 4,
 "nbformat_minor": 4
}
