{
 "cells": [
  {
   "cell_type": "markdown",
   "metadata": {},
   "source": [
    "<a href='https://www.darshan.ac.in/'> <img src='https://www.darshan.ac.in/Content/media/DU_Logo.svg' width=\"250\" height=\"300\"/></a>\n",
    "<pre>\n",
    "<center><b><h1>Python Programming - 2301CS404</b></center>\n",
    "<center><b><h1>Lab - 7</b></center>    \n",
    "<pre>"
   ]
  },
  {
   "cell_type": "markdown",
   "metadata": {},
   "source": [
    "# Set & Dictionary"
   ]
  },
  {
   "cell_type": "markdown",
   "metadata": {},
   "source": [
    "### 01) WAP to iterate over a set."
   ]
  },
  {
   "cell_type": "code",
   "execution_count": 1,
   "metadata": {},
   "outputs": [
    {
     "name": "stdout",
     "output_type": "stream",
     "text": [
      "1\n",
      "2\n",
      "3\n",
      "4\n",
      "5\n"
     ]
    }
   ],
   "source": [
    "S1 = {1, 2, 3, 4, 5}\n",
    "for i in S1:\n",
    "    print(i)\n"
   ]
  },
  {
   "cell_type": "markdown",
   "metadata": {},
   "source": [
    "### 02) WAP to convert set into list, string and tuple."
   ]
  },
  {
   "cell_type": "code",
   "execution_count": 3,
   "metadata": {},
   "outputs": [
    {
     "name": "stdout",
     "output_type": "stream",
     "text": [
      "List: [1, 2, 3, 4, 5]\n",
      "String: 12345\n",
      "Tuple: (1, 2, 3, 4, 5)\n"
     ]
    }
   ],
   "source": [
    "S2 = {1, 2, 3, 4, 5}\n",
    "L1 = list(S2)\n",
    "s1= ''.join(map(str, S2))\n",
    "T1 = tuple(S2)\n",
    "\n",
    "print(\"List:\", L1)\n",
    "print(\"String:\", s1)\n",
    "print(\"Tuple:\", T1)\n"
   ]
  },
  {
   "cell_type": "markdown",
   "metadata": {},
   "source": [
    "### 03) WAP to find Maximum and Minimum from a set."
   ]
  },
  {
   "cell_type": "code",
   "execution_count": 4,
   "metadata": {},
   "outputs": [
    {
     "name": "stdout",
     "output_type": "stream",
     "text": [
      "Maximum: 50\n",
      "Minimum: 10\n"
     ]
    }
   ],
   "source": [
    "S3= {10, 20, 30, 40, 50}\n",
    "max_value = max(S3)\n",
    "min_value = min(S3)\n",
    "\n",
    "print(\"Maximum:\", max_value)\n",
    "print(\"Minimum:\", min_value)\n"
   ]
  },
  {
   "cell_type": "markdown",
   "metadata": {},
   "source": [
    "### 04) WAP to perform union of two sets."
   ]
  },
  {
   "cell_type": "code",
   "execution_count": 5,
   "metadata": {},
   "outputs": [
    {
     "name": "stdout",
     "output_type": "stream",
     "text": [
      "Union of A and B: {1, 2, 3, 4, 5}\n"
     ]
    }
   ],
   "source": [
    "S4 = {1, 2, 3}\n",
    "S5 = {3, 4, 5}\n",
    "US1 = S4 | S5\n",
    "\n",
    "print(\"Union of A and B:\", US1)\n"
   ]
  },
  {
   "cell_type": "markdown",
   "metadata": {},
   "source": [
    "### 05) WAP to check if two lists have at-least one element common."
   ]
  },
  {
   "cell_type": "code",
   "execution_count": 10,
   "metadata": {},
   "outputs": [
    {
     "name": "stdout",
     "output_type": "stream",
     "text": [
      "At least one common element: True\n"
     ]
    }
   ],
   "source": [
    "S6 = [1, 2, 3]\n",
    "S7 = [3, 4, 5]\n",
    "\n",
    "c = bool(set(S6) & set(S7))\n",
    "print(\"At least one common element:\", c)\n"
   ]
  },
  {
   "cell_type": "markdown",
   "metadata": {},
   "source": [
    "### 06) WAP to remove duplicates from list."
   ]
  },
  {
   "cell_type": "code",
   "execution_count": 7,
   "metadata": {},
   "outputs": [
    {
     "name": "stdout",
     "output_type": "stream",
     "text": [
      "[1, 2, 3, 4, 5, 6]\n"
     ]
    }
   ],
   "source": [
    "L2=[1,1,2,2,3,3,4,5,6]\n",
    "S8=set(L2)\n",
    "L2=list(S8)\n",
    "print(L2)"
   ]
  },
  {
   "cell_type": "markdown",
   "metadata": {},
   "source": [
    "### 07) WAP to find unique words in the given string."
   ]
  },
  {
   "cell_type": "code",
   "execution_count": 9,
   "metadata": {},
   "outputs": [
    {
     "name": "stdout",
     "output_type": "stream",
     "text": [
      "{'raj,', 'hi', 'am', 'a', 'student', 'i'}\n"
     ]
    }
   ],
   "source": [
    "s2='hi i am raj , i am a student'\n",
    "S9=set(s2.split(\" \"))\n",
    "print(S9)"
   ]
  },
  {
   "cell_type": "markdown",
   "metadata": {},
   "source": [
    "### 08) WAP to remove common elements of set A & B from set A."
   ]
  },
  {
   "cell_type": "code",
   "execution_count": 11,
   "metadata": {},
   "outputs": [
    {
     "name": "stdout",
     "output_type": "stream",
     "text": [
      "Set A after removing common elements: {1, 2}\n"
     ]
    }
   ],
   "source": [
    "S10 = {1, 2, 3, 4}\n",
    "S11 = {3, 4, 5, 6}\n",
    "S10 -= S10 & S11\n",
    "\n",
    "print(\"Set A after removing common elements:\", S10)\n"
   ]
  },
  {
   "cell_type": "markdown",
   "metadata": {},
   "source": [
    "### 09) WAP to check whether two given strings are anagram or not using set."
   ]
  },
  {
   "cell_type": "code",
   "execution_count": null,
   "metadata": {},
   "outputs": [],
   "source": [
    "str1 = input(\"Enter the first string: \")\n",
    "str2 = input(\"Enter the second string: \")\n",
    "\n",
    "if len(str1) != len(str2):\n",
    "    print(\"The strings are not anagrams.\")\n",
    "else:\n",
    "    \n",
    "    dict1 = {}\n",
    "    dict2 = {}\n",
    "\n",
    "    for char in str1:\n",
    "        if char in dict1:\n",
    "            dict1[char] += 1\n",
    "        else:\n",
    "            dict1[char] = 1\n",
    "\n",
    "    for char in str2:\n",
    "        if char in dict2:\n",
    "            dict2[char] += 1\n",
    "        else:\n",
    "            dict2[char] = 1\n",
    "\n",
    "    if dict1 == dict2:\n",
    "        print(\"The strings are anagrams.\")\n",
    "    else:\n",
    "        print(\"The strings are not anagrams.\")\n",
    "\n"
   ]
  },
  {
   "cell_type": "markdown",
   "metadata": {},
   "source": [
    "### 10) WAP to find common elements in three lists using set."
   ]
  },
  {
   "cell_type": "code",
   "execution_count": 34,
   "metadata": {},
   "outputs": [
    {
     "data": {
      "text/plain": [
       "{1, 2}"
      ]
     },
     "execution_count": 34,
     "metadata": {},
     "output_type": "execute_result"
    }
   ],
   "source": [
    "L3=[1,2,3]\n",
    "L4=[1,2,4]\n",
    "L5=[1,2,4]\n",
    "\n",
    "ans = (set(L3) & set(L4) & set(L5))\n",
    "ans\n"
   ]
  },
  {
   "cell_type": "markdown",
   "metadata": {},
   "source": [
    "### 11) WAP to count number of vowels in given string using set."
   ]
  },
  {
   "cell_type": "code",
   "execution_count": 26,
   "metadata": {},
   "outputs": [
    {
     "name": "stdout",
     "output_type": "stream",
     "text": [
      "Number of vowels: 3\n"
     ]
    }
   ],
   "source": [
    "s5 = \"Hello World\"\n",
    "v = {'a', 'e', 'i', 'o', 'u'}\n",
    "cv = sum(1 for char in s5.lower() if char in v)\n",
    "\n",
    "print(\"Number of vowels:\", cv)\n"
   ]
  },
  {
   "cell_type": "markdown",
   "metadata": {},
   "source": [
    "### 12) WAP to check if a given string is binary string or not."
   ]
  },
  {
   "cell_type": "code",
   "execution_count": 25,
   "metadata": {},
   "outputs": [
    {
     "name": "stdout",
     "output_type": "stream",
     "text": [
      "Is the string binary? True\n"
     ]
    }
   ],
   "source": [
    "s6 = \"1010101\"\n",
    "binary = set(s6).issubset({'0', '1'})\n",
    "\n",
    "print(\"Is the string binary?\",binary)\n"
   ]
  },
  {
   "cell_type": "markdown",
   "metadata": {},
   "source": [
    "### 13) WAP to sort dictionary by key or value."
   ]
  },
  {
   "cell_type": "code",
   "execution_count": 19,
   "metadata": {},
   "outputs": [
    {
     "name": "stdout",
     "output_type": "stream",
     "text": [
      "Sorted by key: {'a': 5, 'b': 2, 'c': 8}\n",
      "Sorted by value: {'b': 2, 'a': 5, 'c': 8}\n"
     ]
    }
   ],
   "source": [
    "D1 = {'a': 5, 'c': 8, 'b': 2}\n",
    "\n",
    "# Sort by key\n",
    "SK = dict(sorted(D1.items()))\n",
    "print(\"Sorted by key:\", SK)\n",
    "\n",
    "# Sort by value\n",
    "SV = dict(sorted(D1.items(), key=lambda item: item[1]))\n",
    "print(\"Sorted by value:\", SV)\n"
   ]
  },
  {
   "cell_type": "markdown",
   "metadata": {},
   "source": [
    "### 14) WAP to find the sum of all items (values) in a dictionary given by user. (Assume: values are numeric)"
   ]
  },
  {
   "cell_type": "code",
   "execution_count": 20,
   "metadata": {},
   "outputs": [
    {
     "name": "stdout",
     "output_type": "stream",
     "text": [
      "Sum of all values: 30\n"
     ]
    }
   ],
   "source": [
    "D2 = {'a': 5, 'b': 10, 'c': 15}\n",
    "total = sum(D2.values())\n",
    "\n",
    "print(\"Sum of all values:\", total)\n"
   ]
  },
  {
   "cell_type": "markdown",
   "metadata": {},
   "source": [
    "### 15) WAP to handle missing keys in dictionaries.\n",
    "#### Example : Given, dict1 = {'a': 5, 'c': 8, 'e': 2} \n",
    "#### if you look for key = 'd', the message given should be 'Key Not Found', otherwise print the value of 'd' in dict1."
   ]
  },
  {
   "cell_type": "code",
   "execution_count": 21,
   "metadata": {},
   "outputs": [
    {
     "name": "stdout",
     "output_type": "stream",
     "text": [
      "Value of 'd': Key Not Found\n"
     ]
    }
   ],
   "source": [
    "D3 = {'a': 5, 'c': 8, 'e': 2}\n",
    "\n",
    "key = 'd'\n",
    "value = D3.get(key, 'Key Not Found')\n",
    "\n",
    "print(f\"Value of '{key}': {value}\")\n"
   ]
  },
  {
   "cell_type": "code",
   "execution_count": null,
   "metadata": {},
   "outputs": [],
   "source": []
  }
 ],
 "metadata": {
  "kernelspec": {
   "display_name": "Python 3 (ipykernel)",
   "language": "python",
   "name": "python3"
  },
  "language_info": {
   "codemirror_mode": {
    "name": "ipython",
    "version": 3
   },
   "file_extension": ".py",
   "mimetype": "text/x-python",
   "name": "python",
   "nbconvert_exporter": "python",
   "pygments_lexer": "ipython3",
   "version": "3.10.9"
  }
 },
 "nbformat": 4,
 "nbformat_minor": 4
}
