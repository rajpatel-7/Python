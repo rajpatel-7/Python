{
 "cells": [
  {
   "cell_type": "markdown",
   "metadata": {},
   "source": [
    "<a href='https://www.darshan.ac.in/'> <img src='https://www.darshan.ac.in/Content/media/DU_Logo.svg' width=\"250\" height=\"300\"/></a>\n",
    "<pre>\n",
    "<center><b><h1>Python Programming - 2301CS404</b></center>\n",
    "<center><b><h1>Lab - 11</b></center>    \n",
    "<pre>"
   ]
  },
  {
   "cell_type": "markdown",
   "metadata": {},
   "source": [
    "# Modules"
   ]
  },
  {
   "cell_type": "markdown",
   "metadata": {},
   "source": [
    "### 01) WAP to create Calculator module which defines functions like add, sub,mul and div. \n",
    "### Create another .py file that uses the functions available in Calculator module."
   ]
  },
  {
   "cell_type": "code",
   "execution_count": 2,
   "metadata": {},
   "outputs": [
    {
     "name": "stdout",
     "output_type": "stream",
     "text": [
      "Addition: 15\n",
      "Subtraction: 5\n",
      "Multiplication: 50\n",
      "Division: 2.0\n"
     ]
    }
   ],
   "source": [
    "import calc\n",
    "\n",
    "a = 10\n",
    "b = 5\n",
    "\n",
    "print(\"Addition:\", calc.add(a, b))\n",
    "print(\"Subtraction:\", calc.sub(a, b))\n",
    "print(\"Multiplication:\", calc.mul(a, b))\n",
    "print(\"Division:\", calc.div(a, b))\n"
   ]
  },
  {
   "cell_type": "markdown",
   "metadata": {},
   "source": [
    "### 02) WAP to pick a random character from a given String."
   ]
  },
  {
   "cell_type": "code",
   "execution_count": 5,
   "metadata": {},
   "outputs": [
    {
     "name": "stdout",
     "output_type": "stream",
     "text": [
      "Random character: l\n"
     ]
    }
   ],
   "source": [
    "import random\n",
    "\n",
    "m = \"Hello, World!\"\n",
    "r= random.choice(m)\n",
    "print(\"Random character:\", r)\n"
   ]
  },
  {
   "cell_type": "markdown",
   "metadata": {},
   "source": [
    "### 03) WAP to pick a random element from a given list."
   ]
  },
  {
   "cell_type": "code",
   "execution_count": 11,
   "metadata": {},
   "outputs": [
    {
     "name": "stdout",
     "output_type": "stream",
     "text": [
      "Random character: 5\n"
     ]
    }
   ],
   "source": [
    "import random\n",
    "\n",
    "m = [1,2,3,4,5]\n",
    "r= random.choice(m)\n",
    "print(\"Random character:\", r)"
   ]
  },
  {
   "cell_type": "markdown",
   "metadata": {},
   "source": [
    "### 04) WAP to roll a dice in such a way that every time you get the same number."
   ]
  },
  {
   "cell_type": "code",
   "execution_count": 31,
   "metadata": {},
   "outputs": [
    {
     "name": "stdout",
     "output_type": "stream",
     "text": [
      "Random character: 1 1\n"
     ]
    }
   ],
   "source": [
    "import random\n",
    "\n",
    "m = [1,2,3,4,5,6]\n",
    "r=1\n",
    "p=0\n",
    "while(p!= 1):\n",
    "    p=random.choice(m)\n",
    "print(\"Random character:\", r,p)"
   ]
  },
  {
   "cell_type": "markdown",
   "metadata": {},
   "source": [
    "### 05) WAP to generate 3 random integers between 100 and 999 which is divisible by 5."
   ]
  },
  {
   "cell_type": "code",
   "execution_count": 34,
   "metadata": {},
   "outputs": [
    {
     "data": {
      "text/plain": [
       "[125, 580, 490]"
      ]
     },
     "execution_count": 34,
     "metadata": {},
     "output_type": "execute_result"
    }
   ],
   "source": [
    "import random\n",
    "ans=[]\n",
    "j=0\n",
    "p=0\n",
    "while(len(ans)!=3):\n",
    "    r = random.randrange(100,999)\n",
    "    if(r % 5 == 0):\n",
    "        ans.append(r)\n",
    "ans"
   ]
  },
  {
   "cell_type": "markdown",
   "metadata": {},
   "source": [
    "### 06) WAP to generate 100 random lottery tickets and pick two lucky tickets from it and announce them as Winner and Runner up respectively."
   ]
  },
  {
   "cell_type": "code",
   "execution_count": 38,
   "metadata": {},
   "outputs": [
    {
     "name": "stdout",
     "output_type": "stream",
     "text": [
      "[767, 650, 975, 310, 147, 679, 825, 997, 384, 133, 393, 472, 993, 464, 438, 745, 846, 578, 830, 219, 764, 186, 270, 637, 445, 216, 106, 671, 955, 187, 944, 531, 306, 762, 307, 880, 126, 868, 662, 829, 615, 917, 976, 760, 694, 667, 341, 899, 214, 796, 250, 919, 544, 579, 362, 816, 775, 227, 167, 140, 103, 136, 715, 952, 283, 479, 632, 371, 807, 841, 906, 487, 773, 682, 888, 973, 315, 843, 486, 342, 252, 399, 968, 757, 538, 707, 234, 301, 419, 215, 848, 949, 977, 866, 291, 302, 748, 320, 209, 561]\n",
      "you are winnnerrrrr!!! ticket no: 106\n",
      "you are winnnerrrrr!!! ticket no: 531\n"
     ]
    }
   ],
   "source": [
    "import random\n",
    "tickets = random.sample(range(100,999),100)\n",
    "print(tickets)\n",
    "for i in range(1,3):\n",
    "    r=random.choice(tickets)\n",
    "    print(\"you are winnnerrrrr!!! ticket no:\",r)\n",
    "   "
   ]
  },
  {
   "cell_type": "markdown",
   "metadata": {},
   "source": [
    "### 07) WAP to print current date and time in Python."
   ]
  },
  {
   "cell_type": "code",
   "execution_count": 8,
   "metadata": {},
   "outputs": [
    {
     "data": {
      "text/plain": [
       "datetime.datetime(2025, 2, 10, 10, 56, 32, 916237)"
      ]
     },
     "execution_count": 8,
     "metadata": {},
     "output_type": "execute_result"
    }
   ],
   "source": [
    "from datetime import datetime\n",
    "datetime.now()\n"
   ]
  },
  {
   "cell_type": "markdown",
   "metadata": {},
   "source": [
    "### 08) Subtract a week (7 days) from a given date in Python."
   ]
  },
  {
   "cell_type": "code",
   "execution_count": 14,
   "metadata": {},
   "outputs": [
    {
     "name": "stdout",
     "output_type": "stream",
     "text": [
      "New Date after subtracting a week: 2025-02-03 00:00:00\n"
     ]
    }
   ],
   "source": [
    "from datetime import datetime, timedelta\n",
    "\n",
    "given_date = datetime(2025, 2, 10)  # Example: 10th Feb 2025\n",
    "new_date = given_date - timedelta(days=7)\n",
    "print(\"New Date after subtracting a week:\", new_date)\n"
   ]
  },
  {
   "cell_type": "markdown",
   "metadata": {},
   "source": [
    "### 09) WAP to Calculate number of days between two given dates."
   ]
  },
  {
   "cell_type": "code",
   "execution_count": 15,
   "metadata": {},
   "outputs": [
    {
     "name": "stdout",
     "output_type": "stream",
     "text": [
      "Number of days between dates: 40\n"
     ]
    }
   ],
   "source": [
    "from datetime import datetime\n",
    "\n",
    "date1 = datetime(2025, 1, 1)\n",
    "date2 = datetime(2025, 2, 10)\n",
    "\n",
    "difference = date2 - date1\n",
    "print(\"Number of days between dates:\", difference.days)\n"
   ]
  },
  {
   "cell_type": "markdown",
   "metadata": {},
   "source": [
    "### 10) WAP to Find the day of the week of a given date.(i.e. wether it is sunday/monday/tuesday/etc.)"
   ]
  },
  {
   "cell_type": "code",
   "execution_count": 17,
   "metadata": {},
   "outputs": [
    {
     "name": "stdout",
     "output_type": "stream",
     "text": [
      "Day of the week: Thursday\n"
     ]
    }
   ],
   "source": [
    "from datetime import datetime\n",
    "\n",
    "given_date = datetime(2025, 7, 10)\n",
    "day_of_week = given_date.strftime(\"%A\")\n",
    "print(\"Day of the week:\", day_of_week)\n"
   ]
  },
  {
   "cell_type": "markdown",
   "metadata": {},
   "source": [
    "### 11) WAP to demonstrate the use of date time module."
   ]
  },
  {
   "cell_type": "code",
   "execution_count": 18,
   "metadata": {},
   "outputs": [
    {
     "name": "stdout",
     "output_type": "stream",
     "text": [
      "Current Date and Time: 2025-02-10 11:04:11.978997\n",
      "Formatted Date and Time: 2025-02-10 11:04:11\n"
     ]
    }
   ],
   "source": [
    "from datetime import datetime\n",
    "\n",
    "now = datetime.now()\n",
    "print(\"Current Date and Time:\", now)\n",
    "\n",
    "formatted_date = now.strftime(\"%Y-%m-%d %H:%M:%S\")\n",
    "print(\"Formatted Date and Time:\", formatted_date)\n"
   ]
  },
  {
   "cell_type": "markdown",
   "metadata": {},
   "source": [
    "### 12) WAP to demonstrate the use of the math module."
   ]
  },
  {
   "cell_type": "code",
   "execution_count": 19,
   "metadata": {},
   "outputs": [
    {
     "name": "stdout",
     "output_type": "stream",
     "text": [
      "Pi: 3.141592653589793\n",
      "Square Root of 16: 4.0\n",
      "Factorial of 5: 120\n",
      "Cosine of 0 degrees: 1.0\n"
     ]
    }
   ],
   "source": [
    "import math\n",
    "\n",
    "print(\"Pi:\", math.pi)\n",
    "print(\"Square Root of 16:\", math.sqrt(16))\n",
    "print(\"Factorial of 5:\", math.factorial(5))\n",
    "print(\"Cosine of 0 degrees:\", math.cos(0))\n"
   ]
  },
  {
   "cell_type": "code",
   "execution_count": null,
   "metadata": {},
   "outputs": [],
   "source": []
  }
 ],
 "metadata": {
  "kernelspec": {
   "display_name": "Python 3 (ipykernel)",
   "language": "python",
   "name": "python3"
  },
  "language_info": {
   "codemirror_mode": {
    "name": "ipython",
    "version": 3
   },
   "file_extension": ".py",
   "mimetype": "text/x-python",
   "name": "python",
   "nbconvert_exporter": "python",
   "pygments_lexer": "ipython3",
   "version": "3.10.9"
  }
 },
 "nbformat": 4,
 "nbformat_minor": 4
}
