{
 "cells": [
  {
   "cell_type": "markdown",
   "metadata": {},
   "source": [
    "\n",
    "<a href='https://www.darshan.ac.in/'> <img src='https://www.darshan.ac.in/Content/media/DU_Logo.svg' width=\"250\" height=\"300\"/></a>\n",
    "<pre>\n",
    "<center><b><h1>Python Programming - 2301CS404</b></center>\n",
    "<center><b><h1>Raj Vekariya | 23010101298 | 02-12-2024</b></center>    \n",
    "<pre>"
   ]
  },
  {
   "cell_type": "markdown",
   "metadata": {},
   "source": [
    "# if..else.."
   ]
  },
  {
   "cell_type": "markdown",
   "metadata": {},
   "source": [
    "### 01) WAP to check whether the given number is positive or negative."
   ]
  },
  {
   "cell_type": "code",
   "execution_count": 4,
   "metadata": {},
   "outputs": [
    {
     "name": "stdout",
     "output_type": "stream",
     "text": [
      "Enter Number: -11\n",
      "Negative Number\n"
     ]
    }
   ],
   "source": [
    "n = int(input(\"Enter Number: \"))\n",
    "if n>=0 :\n",
    "    print('Positive Number')\n",
    "else:\n",
    "    print('Negative Number')"
   ]
  },
  {
   "cell_type": "markdown",
   "metadata": {},
   "source": [
    "### 02) WAP to check whether the given number is odd or even."
   ]
  },
  {
   "cell_type": "code",
   "execution_count": 3,
   "metadata": {},
   "outputs": [
    {
     "name": "stdout",
     "output_type": "stream",
     "text": [
      "Enter Number: 11\n",
      "Odd Number\n"
     ]
    }
   ],
   "source": [
    "n = int(input(\"Enter Number: \"))\n",
    "if n%2==0 :\n",
    "    print('Even Number')\n",
    "else:\n",
    "    print('Odd Number')"
   ]
  },
  {
   "cell_type": "markdown",
   "metadata": {},
   "source": [
    "### 03) WAP to find out largest number from given two numbers using simple if and ternary operator."
   ]
  },
  {
   "cell_type": "code",
   "execution_count": 10,
   "metadata": {},
   "outputs": [
    {
     "name": "stdout",
     "output_type": "stream",
     "text": [
      "Enter 1st Number: 5\n",
      "Enter 2nd Number: 6\n",
      "6\n"
     ]
    }
   ],
   "source": [
    "n = int(input(\"Enter 1st Number: \"))\n",
    "m = int(input(\"Enter 2nd Number: \"))\n",
    "\n",
    "#Simple if\n",
    "\n",
    "# if n>m :\n",
    "#     print(n,'is Largest Number')\n",
    "# else:\n",
    "#     print(m,'is Largest Number')\n",
    "    \n",
    "#Ternary Operator\n",
    "\n",
    "largest = n if n>m else m\n",
    "print(largest,'is Largest Number'+)"
   ]
  },
  {
   "cell_type": "markdown",
   "metadata": {},
   "source": [
    "### 04) WAP to find out largest number from given three numbers."
   ]
  },
  {
   "cell_type": "code",
   "execution_count": 19,
   "metadata": {},
   "outputs": [
    {
     "name": "stdout",
     "output_type": "stream",
     "text": [
      "Enter 1st Number: 2\n",
      "Enter 2nd Number: 3\n",
      "Enter 3rd Number: 1\n",
      "3 is Largest Number\n"
     ]
    }
   ],
   "source": [
    "n = int(input(\"Enter 1st Number: \"))\n",
    "m = int(input(\"Enter 2nd Number: \"))\n",
    "o = int(input(\"Enter 3rd Number: \"))\n",
    " \n",
    "#Ternary Operator\n",
    "\n",
    "largest = n if (n>m and n>o) else (m if m>o else o)\n",
    "print(largest,'is Largest Number')"
   ]
  },
  {
   "cell_type": "markdown",
   "metadata": {},
   "source": [
    "### 05) WAP to check whether the given year is leap year or not.\n",
    "[If a year can be divisible by 4 but not divisible by 100 then it is leap year but if it is divisible by 400 then it is leap year]"
   ]
  },
  {
   "cell_type": "code",
   "execution_count": 26,
   "metadata": {},
   "outputs": [
    {
     "name": "stdout",
     "output_type": "stream",
     "text": [
      "Enter Year: 1200\n",
      "Entered year is a leap year.\n"
     ]
    }
   ],
   "source": [
    "year = int(input(\"Enter Year: \"))\n",
    "\n",
    "if (year%4==0 and year%100!=0):\n",
    "    print(\"Entered year is a leap year.\")\n",
    "else:\n",
    "    if year%400==0 :\n",
    "        print(\"Entered year is a leap year.\")\n",
    "    else:\n",
    "        print(\"Entered year is not a leap year.\")"
   ]
  },
  {
   "cell_type": "markdown",
   "metadata": {},
   "source": [
    "### 06) WAP in python to display the name of the day according to the number given by the user."
   ]
  },
  {
   "cell_type": "code",
   "execution_count": 33,
   "metadata": {},
   "outputs": [
    {
     "name": "stdout",
     "output_type": "stream",
     "text": [
      "Enter Day Index: 1185\n",
      "Monday\n"
     ]
    }
   ],
   "source": [
    "n = int(input(\"Enter Day Index: \"))\n",
    "a = (n%7)\n",
    "\n",
    "match a:\n",
    "    case 1:\n",
    "        print(\"Sunday\")\n",
    "    case 2:\n",
    "        print(\"Monday\")\n",
    "    case 3:\n",
    "        print(\"Tuesday\")\n",
    "    case 4:\n",
    "        print(\"Wednesday\")\n",
    "    case 5:\n",
    "        print(\"Thursday\")\n",
    "    case 6:\n",
    "        print(\"Friday\")\n",
    "    case 7:\n",
    "        print(\"Saturday\")\n",
    "    "
   ]
  },
  {
   "cell_type": "markdown",
   "metadata": {},
   "source": [
    "### 07) WAP to implement simple calculator which performs (add,sub,mul,div) of two no. based on user input."
   ]
  },
  {
   "cell_type": "code",
   "execution_count": 38,
   "metadata": {},
   "outputs": [
    {
     "name": "stdout",
     "output_type": "stream",
     "text": [
      "Enter 1st Number: 56\n",
      "Enter 2nd Number: 235\n",
      "Enter Operator(+,-,*,/): /\n",
      "Division of 2 number is  0.23829787234042554\n"
     ]
    }
   ],
   "source": [
    "n = float(input(\"Enter 1st Number: \"))\n",
    "m = float(input(\"Enter 2nd Number: \"))\n",
    "o = input(\"Enter Operator(+,-,*,/): \")\n",
    "\n",
    "match o:\n",
    "    case '+':\n",
    "        print('Sum of 2 number is ',n+m)\n",
    "    case '-':\n",
    "        print('Substraction of 2 number is ',n-m)\n",
    "    case '*':\n",
    "        print('Multiplication of 2 number is ',n*m)\n",
    "    case '/':\n",
    "        print('Division of 2 number is ',n/m)\n",
    "    case _:\n",
    "        print('Invalid Operator')"
   ]
  },
  {
   "cell_type": "markdown",
   "metadata": {},
   "source": [
    "### 08) WAP to read marks of five subjects. Calculate percentage and print class accordingly. \n",
    "Fail below 35 </br>\n",
    "Pass Class between 35 to 45 </br>\n",
    "Second Class</br>\n",
    "between 45 to 60</br>\n",
    "First Class between 60 to 70</br> \n",
    "Distinction if more than 70"
   ]
  },
  {
   "cell_type": "code",
   "execution_count": 68,
   "metadata": {},
   "outputs": [
    {
     "name": "stdout",
     "output_type": "stream",
     "text": [
      "Enter marks for Subject 1: 25\n",
      "Enter marks for Subject 2: 64\n",
      "Enter marks for Subject 3: 51\n",
      "Enter marks for Subject 4: 42\n",
      "Enter marks for Subject 5: 45\n",
      "percentage 45.4 %\n",
      "Second Class\n"
     ]
    }
   ],
   "source": [
    "marks1 = float(input(\"Enter marks for Subject 1: \"))\n",
    "marks2 = float(input(\"Enter marks for Subject 2: \"))\n",
    "marks3 = float(input(\"Enter marks for Subject 3: \"))\n",
    "marks4 = float(input(\"Enter marks for Subject 4: \"))\n",
    "marks5 = float(input(\"Enter marks for Subject 5: \"))\n",
    "\n",
    "total_marks = marks1 + marks2 + marks3 + marks4 + marks5\n",
    "percentage = total_marks / 5\n",
    "\n",
    "print('percentage',percentage,'%')\n",
    "\n",
    "if percentage > 70:\n",
    "    print(\"Distinction\")\n",
    "elif percentage >= 60:\n",
    "    print(\"First Class\")\n",
    "elif percentage >= 45:\n",
    "    print(\"Second Class\")\n",
    "elif percentage >= 35:\n",
    "    print(\"Pass Class\")\n",
    "else:\n",
    "    print(\"Fail\")\n",
    "\n"
   ]
  },
  {
   "cell_type": "markdown",
   "metadata": {},
   "source": [
    "### 09) Three sides of a triangle are entered through the keyboard, WAP to check whether the triangle is isosceles, equilateral, scalene or right-angled triangle."
   ]
  },
  {
   "cell_type": "code",
   "execution_count": 71,
   "metadata": {},
   "outputs": [
    {
     "name": "stdout",
     "output_type": "stream",
     "text": [
      "Enter the length of side 1: 15\n",
      "Enter the length of side 2: 15\n",
      "Enter the length of side 3: 18\n",
      "The triangle is Isosceles.\n"
     ]
    }
   ],
   "source": [
    "a = float(input(\"Enter the length of side 1: \"))\n",
    "b = float(input(\"Enter the length of side 2: \"))\n",
    "c = float(input(\"Enter the length of side 3: \"))\n",
    "\n",
    "if a + b > c and b + c > a and c + a > b:\n",
    "    \n",
    "    if a == b == c:\n",
    "        print(\"The triangle is Equilateral.\")\n",
    "    elif a == b or b == c or c == a:\n",
    "        print(\"The triangle is Isosceles.\")\n",
    "    else:\n",
    "        print(\"The triangle is Scalene.\")\n",
    "    \n",
    "    if a**2 + b**2 == c**2 or b**2 + c**2 == a**2 or c**2 + a**2 == b**2:\n",
    "        print(\"The triangle is Right-Angled.\")\n",
    "else:\n",
    "    print(\"The entered sides do not form a valid triangle.\")\n"
   ]
  },
  {
   "cell_type": "markdown",
   "metadata": {},
   "source": [
    "### 10) WAP to find the second largest number among three user input numbers."
   ]
  },
  {
   "cell_type": "code",
   "execution_count": 73,
   "metadata": {},
   "outputs": [
    {
     "name": "stdout",
     "output_type": "stream",
     "text": [
      "Enter 1st Number: 3\n",
      "Enter 2nd Number: 1\n",
      "Enter 3rd Number: 2\n",
      "2 is 2nd Largest Number\n"
     ]
    }
   ],
   "source": [
    "n = int(input(\"Enter 1st Number: \"))\n",
    "m = int(input(\"Enter 2nd Number: \"))\n",
    "o = int(input(\"Enter 3rd Number: \"))\n",
    " \n",
    "#Ternary Operator\n",
    "\n",
    "if (n>m and n>o):\n",
    "    if m>o :\n",
    "        print(m,'is 2nd Largest Number')\n",
    "    else:\n",
    "        print(o,'is 2nd Largest Number')\n",
    "elif (m>o):\n",
    "    if n>o :\n",
    "        print(n,'is 2nd Largest Number')\n",
    "    else:\n",
    "        print(o,'is 2nd Largest Number')\n",
    "else:\n",
    "    if m>n :\n",
    "        print(m,'is 2nd Largest Number')\n",
    "    else:\n",
    "        print(n,'is 2nd Largest Number')\n",
    "     "
   ]
  },
  {
   "cell_type": "markdown",
   "metadata": {},
   "source": [
    "### 11) WAP to calculate electricity bill based on following criteria. Which takes the unit from the user.\n",
    "a. First 1 to 50 units – Rs. 2.60/unit</br>\n",
    "b. Next 50 to 100 units – Rs. 3.25/unit</br>\n",
    "c. Next 100 to 200 units – Rs. 5.26/unit</br>\n",
    "d. above 200 units – Rs. 8.45/unit"
   ]
  },
  {
   "cell_type": "code",
   "execution_count": 74,
   "metadata": {},
   "outputs": [
    {
     "name": "stdout",
     "output_type": "stream",
     "text": [
      "Enter the number of units consumed: 200\n",
      "Your electricity bill is: Rs. 818.50\n"
     ]
    }
   ],
   "source": [
    "units = float(input(\"Enter the number of units consumed: \"))\n",
    "\n",
    "if units <= 50:\n",
    "    bill = units * 2.60\n",
    "elif units <= 100:\n",
    "    bill = 50 * 2.60 + (units - 50) * 3.25\n",
    "elif units <= 200:\n",
    "    bill = 50 * 2.60 + 50 * 3.25 + (units - 100) * 5.26\n",
    "else:\n",
    "    bill = 50 * 2.60 + 50 * 3.25 + 100 * 5.26 + (units - 200) * 8.45\n",
    "\n",
    "print(f\"Your electricity bill is: Rs. {bill:.2f}\")\n"
   ]
  },
  {
   "cell_type": "code",
   "execution_count": null,
   "metadata": {},
   "outputs": [],
   "source": []
  }
 ],
 "metadata": {
  "kernelspec": {
   "display_name": "Python 3 (ipykernel)",
   "language": "python",
   "name": "python3"
  },
  "language_info": {
   "codemirror_mode": {
    "name": "ipython",
    "version": 3
   },
   "file_extension": ".py",
   "mimetype": "text/x-python",
   "name": "python",
   "nbconvert_exporter": "python",
   "pygments_lexer": "ipython3",
   "version": "3.10.9"
  }
 },
 "nbformat": 4,
 "nbformat_minor": 4
}
