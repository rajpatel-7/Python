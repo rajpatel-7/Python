{
 "cells": [
  {
   "cell_type": "markdown",
   "metadata": {},
   "source": [
    "\n",
    "<a href='https://www.darshan.ac.in/'> <img src='https://www.darshan.ac.in/Content/media/DU_Logo.svg' width=\"250\" height=\"300\"/></a>\n",
    "<pre>\n",
    "<center><b><h1>Python Programming - 2301CS404</b></center>\n",
    "<center><b><h1>Lab - 5</b></center>    \n",
    "<pre>"
   ]
  },
  {
   "cell_type": "markdown",
   "metadata": {},
   "source": [
    "# List"
   ]
  },
  {
   "cell_type": "markdown",
   "metadata": {},
   "source": [
    "### 01) WAP to find sum of all the elements in a List."
   ]
  },
  {
   "cell_type": "code",
   "execution_count": 11,
   "metadata": {},
   "outputs": [
    {
     "name": "stdout",
     "output_type": "stream",
     "text": [
      "150\n"
     ]
    }
   ],
   "source": [
    "list = [10,20,30,40,50]\n",
    "\n",
    "\n",
    "print(sum(list))"
   ]
  },
  {
   "cell_type": "markdown",
   "metadata": {},
   "source": [
    "### 02) WAP to find largest element in a List."
   ]
  },
  {
   "cell_type": "code",
   "execution_count": 12,
   "metadata": {},
   "outputs": [
    {
     "name": "stdout",
     "output_type": "stream",
     "text": [
      "50\n"
     ]
    }
   ],
   "source": [
    "list = [10,20,30,40,50]\n",
    "\n",
    "print(max(list))"
   ]
  },
  {
   "cell_type": "markdown",
   "metadata": {},
   "source": [
    "### 03) WAP to find the length of a List."
   ]
  },
  {
   "cell_type": "code",
   "execution_count": 14,
   "metadata": {},
   "outputs": [
    {
     "name": "stdout",
     "output_type": "stream",
     "text": [
      "5\n"
     ]
    }
   ],
   "source": [
    "list = [10,20,30,40,50]\n",
    "print(len(list))"
   ]
  },
  {
   "cell_type": "markdown",
   "metadata": {},
   "source": [
    "### 04) WAP to interchange first and last elements in a list."
   ]
  },
  {
   "cell_type": "code",
   "execution_count": 20,
   "metadata": {},
   "outputs": [
    {
     "name": "stdout",
     "output_type": "stream",
     "text": [
      "Enter an element : 1\n",
      "Enter an element : 2\n",
      "Enter an element : 3\n",
      "Enter an element : 4\n",
      "Enter an element : 5\n",
      "Enter an element : -1\n",
      "[5, 2, 3, 4, 1]\n"
     ]
    }
   ],
   "source": [
    "list=[]\n",
    "\n",
    "while(True):\n",
    "    a=int(input(\"Enter an element : \"))\n",
    "    if(a==-1):\n",
    "        break  \n",
    "    list.append(a)\n",
    "\n",
    "list[0],list[-1]=list[-1],list[0]\n",
    "print(list)"
   ]
  },
  {
   "cell_type": "markdown",
   "metadata": {},
   "source": [
    "### 05) WAP to split the List into two parts and append the first part to the end."
   ]
  },
  {
   "cell_type": "code",
   "execution_count": 23,
   "metadata": {},
   "outputs": [
    {
     "name": "stdout",
     "output_type": "stream",
     "text": [
      "[3, 4, 1, [5, 2]]\n"
     ]
    }
   ],
   "source": [
    "first = list[:len(list)//2]\n",
    "second = list[len(list)//2:]\n",
    "\n",
    "third=second+first\n",
    "print(third)\n",
    "#second method\n",
    "\n",
    "#second.extend(first)\n",
    "#print(second)"
   ]
  },
  {
   "cell_type": "markdown",
   "metadata": {},
   "source": [
    "### 06) WAP to interchange the elements on two positions entered by a user."
   ]
  },
  {
   "cell_type": "code",
   "execution_count": 36,
   "metadata": {},
   "outputs": [
    {
     "name": "stdout",
     "output_type": "stream",
     "text": [
      "Enter an element : 1\n",
      "Enter an element : 2\n",
      "Enter an element : 3\n",
      "Enter an element : -1\n",
      "Enter your index1 : -3\n",
      "Enter your index2 : -3\n"
     ]
    }
   ],
   "source": [
    "\n",
    "list1=[]\n",
    "while(True):\n",
    "    a=int(input(\"Enter an element : \"))\n",
    "    if(a==-1):\n",
    "        break  \n",
    "    list1.append(a)\n",
    "a1=int(input(\"Enter your index1 : \"))\n",
    "a2=int(input(\"Enter your index2 : \"))    \n",
    "    \n",
    "if((a1>=len(list1) or a1<(-(len(list1)))) and (a2>=len(list1) or a2<(-(len(list1))))) :\n",
    "    print(\"index is out of range\")\n",
    "list1[a1],list[a2]=list1[a2],list1[a1]\n",
    "print[list1]"
   ]
  },
  {
   "cell_type": "markdown",
   "metadata": {},
   "source": [
    "### 07) WAP to reverse the list entered by user."
   ]
  },
  {
   "cell_type": "code",
   "execution_count": 39,
   "metadata": {},
   "outputs": [
    {
     "name": "stdout",
     "output_type": "stream",
     "text": [
      "Enter an element : 1\n",
      "Enter an element : 2\n",
      "Enter an element : 3\n",
      "Enter an element : 4\n",
      "Enter an element : -1\n",
      "[4, 3, 2, 1]\n",
      "<list_reverseiterator object at 0x0000021B0D470A90>\n"
     ]
    }
   ],
   "source": [
    "list2=[]\n",
    "while(True):\n",
    "    a=int(input(\"Enter an element : \"))\n",
    "    if(a==-1):\n",
    "        break  \n",
    "    list2.append(a)\n",
    "list2.reverse()\n",
    "print(list2)"
   ]
  },
  {
   "cell_type": "markdown",
   "metadata": {},
   "source": [
    "### 08) WAP to print even numbers in a list."
   ]
  },
  {
   "cell_type": "code",
   "execution_count": 38,
   "metadata": {},
   "outputs": [
    {
     "name": "stdout",
     "output_type": "stream",
     "text": [
      "Enter an element : 1\n",
      "Enter an element : 2\n",
      "Enter an element : 3\n",
      "Enter an element : -1\n",
      "2\n"
     ]
    }
   ],
   "source": [
    "list4=[]\n",
    "while(True):\n",
    "    a=int(input(\"Enter an element : \"))\n",
    "    if(a==-1):\n",
    "        break  \n",
    "    list4.append(a)\n",
    "for i in list4 :\n",
    "    if(i%2==0):\n",
    "        print(i)"
   ]
  },
  {
   "cell_type": "markdown",
   "metadata": {},
   "source": [
    "### 09) WAP to count unique items in a list."
   ]
  },
  {
   "cell_type": "code",
   "execution_count": null,
   "metadata": {},
   "outputs": [],
   "source": [
    "lst = [1, 2, 3, 1, 2, 4, 5]\n",
    "unique_items = []\n",
    "for item in lst:\n",
    "    if item not in unique_items:\n",
    "        unique_items.append(item)\n",
    "count = len(unique_items)\n",
    "print(count)"
   ]
  },
  {
   "cell_type": "markdown",
   "metadata": {},
   "source": [
    "### 10) WAP to copy a list."
   ]
  },
  {
   "cell_type": "code",
   "execution_count": null,
   "metadata": {},
   "outputs": [],
   "source": [
    "list3 = [10,20,30,40,50]\n",
    "mylist=list3.copy()\n",
    "print(mylist)"
   ]
  },
  {
   "cell_type": "markdown",
   "metadata": {},
   "source": [
    "### 11) WAP to print all odd numbers in a given range."
   ]
  },
  {
   "cell_type": "code",
   "execution_count": null,
   "metadata": {},
   "outputs": [],
   "source": [
    "list5=[]\n",
    "while(True):\n",
    "    a=int(input(\"Enter an element : \"))\n",
    "    if(a==-1):\n",
    "        break  \n",
    "    list5.append(a)\n",
    "a1=int(input(\"Enter your index1 : \"))\n",
    "a2=int(input(\"Enter your index2 : \"))\n",
    "\n",
    "for i in range(a1,a2+1):\n",
    "    if(list5[i]%2==1):\n",
    "        print(list5[i])"
   ]
  },
  {
   "cell_type": "markdown",
   "metadata": {},
   "source": [
    "### 12) WAP to count occurrences of an element in a list."
   ]
  },
  {
   "cell_type": "code",
   "execution_count": null,
   "metadata": {},
   "outputs": [],
   "source": [
    "my_list = [1, 2, 3, 2, 4, 2, 5]\n",
    "element = 2\n",
    "count = my_list.count(element)\n",
    "print(count)\n"
   ]
  },
  {
   "cell_type": "markdown",
   "metadata": {},
   "source": [
    "### 13) WAP to find second largest number in a list."
   ]
  },
  {
   "cell_type": "code",
   "execution_count": null,
   "metadata": {},
   "outputs": [],
   "source": [
    "list6 = [10, 20, 30, 40, 50]\n",
    "list6.sort()\n",
    "second_largest = list6[-2]\n",
    "print(second_largest)\n"
   ]
  },
  {
   "cell_type": "markdown",
   "metadata": {},
   "source": [
    "### 14) WAP to extract elements with frequency greater than K."
   ]
  },
  {
   "cell_type": "code",
   "execution_count": null,
   "metadata": {},
   "outputs": [],
   "source": [
    "from collections import Counter\n",
    "my_list = [1, 2, 2, 3, 3, 3, 4]\n",
    "k = 2\n",
    "freq = Counter(my_list)\n",
    "result = [key for key, value in freq.items() if value > k]\n",
    "print(result)\n"
   ]
  },
  {
   "cell_type": "markdown",
   "metadata": {},
   "source": [
    "### 15) WAP to create a list of squared numbers from 0 to 9 with and without using List Comprehension."
   ]
  },
  {
   "cell_type": "code",
   "execution_count": 54,
   "metadata": {},
   "outputs": [
    {
     "name": "stdout",
     "output_type": "stream",
     "text": [
      "[1, 4, 9, 16, 25, 36, 49, 64, 81]\n",
      "[1, 4, 9, 16, 25, 36, 49, 64, 81]\n"
     ]
    }
   ],
   "source": [
    "#without using Comprehension\n",
    "list7=[]\n",
    "ans=0\n",
    "for i in range(1,10):\n",
    "    ans=i*i\n",
    "    list7.append(ans)\n",
    "print(list7)\n",
    "\n",
    "#with using Comprehension\n",
    "list8=[i*i for i in range(1,10)]\n",
    "print(list8)"
   ]
  },
  {
   "cell_type": "markdown",
   "metadata": {},
   "source": [
    "### 16) WAP to create a new list (fruit whose name starts with 'b') from the list of fruits given by user."
   ]
  },
  {
   "cell_type": "code",
   "execution_count": null,
   "metadata": {},
   "outputs": [],
   "source": [
    "fruits = ['banana', 'apple', 'blueberry', 'cherry', 'berry']\n",
    "b_fruits = [fruit for fruit in fruits if fruit.startswith('b')]\n",
    "print(b_fruits)"
   ]
  },
  {
   "cell_type": "markdown",
   "metadata": {},
   "source": [
    "### 17) WAP to create a list of common elements from given two lists."
   ]
  },
  {
   "cell_type": "code",
   "execution_count": null,
   "metadata": {},
   "outputs": [],
   "source": [
    "list1 = [1, 2, 3, 4, 5]\n",
    "list2 = [4, 5, 6, 7, 8]\n",
    "common_elements = [element for element in list1 if element in list2]\n",
    "print(common_elements)\n"
   ]
  }
 ],
 "metadata": {
  "kernelspec": {
   "display_name": "Python 3 (ipykernel)",
   "language": "python",
   "name": "python3"
  },
  "language_info": {
   "codemirror_mode": {
    "name": "ipython",
    "version": 3
   },
   "file_extension": ".py",
   "mimetype": "text/x-python",
   "name": "python",
   "nbconvert_exporter": "python",
   "pygments_lexer": "ipython3",
   "version": "3.10.9"
  }
 },
 "nbformat": 4,
 "nbformat_minor": 4
}
