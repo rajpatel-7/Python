{
 "cells": [
  {
   "cell_type": "markdown",
   "metadata": {},
   "source": [
    "<a href='https://www.darshan.ac.in/'> <img src='https://www.darshan.ac.in/Content/media/DU_Logo.svg' width=\"250\" height=\"300\"/></a>\n",
    "<pre>\n",
    "<center><b><h1>Python Programming - 2301CS404</b></center>\n",
    "<center><b><h1>Lab - 9</b></center>    \n",
    "<pre>"
   ]
  },
  {
   "cell_type": "markdown",
   "metadata": {},
   "source": [
    "# File I/O"
   ]
  },
  {
   "cell_type": "markdown",
   "metadata": {},
   "source": [
    "### 01) WAP to read and display the contents of a text file. (also try to open the file in some other directory) \n",
    "#### - in the form of a string\n",
    "#### - line by line\n",
    "#### - in the form of a list"
   ]
  },
  {
   "cell_type": "code",
   "execution_count": 3,
   "metadata": {},
   "outputs": [
    {
     "name": "stdout",
     "output_type": "stream",
     "text": [
      "Hello\n",
      "Hoe Are You\n",
      "Hello\n",
      "Hoe Are You\n",
      "Hello\n",
      "Hoe Are YouHello\n",
      "Hoe Are You\n",
      "Hello\n",
      "\n",
      "Hoe Are You\n",
      "\n",
      "Hello\n",
      "\n",
      "Hoe Are You\n",
      "\n",
      "Hello\n",
      "\n",
      "Hoe Are YouHello\n",
      "\n",
      "Hoe Are You\n",
      "['Hello\\n', 'Hoe Are You\\n', 'Hello\\n', 'Hoe Are You\\n', 'Hello\\n', 'Hoe Are YouHello\\n', 'Hoe Are You']\n"
     ]
    }
   ],
   "source": [
    "#in the form of a string\n",
    "fp = open(\"Text.txt\",\"rt\")\n",
    "print(fp.read())\n",
    "fp.close()\n",
    "#line by line\n",
    "fp = open(\"Text.txt\",\"rt\")\n",
    "for i in fp:\n",
    "    print(i)\n",
    "#in the form of a list\n",
    "fp = open(\"Text.txt\",\"rt\")\n",
    "print(fp.readlines())\n",
    "fp.close()"
   ]
  },
  {
   "cell_type": "markdown",
   "metadata": {},
   "source": [
    "### 02) WAP to create file named \"new.txt\" only if it doesn't exist."
   ]
  },
  {
   "cell_type": "code",
   "execution_count": 26,
   "metadata": {},
   "outputs": [
    {
     "name": "stdout",
     "output_type": "stream",
     "text": [
      "\n"
     ]
    }
   ],
   "source": [
    "fp1 = open(\"new1.txt\",\"x\")\n"
   ]
  },
  {
   "cell_type": "markdown",
   "metadata": {},
   "source": [
    "### 03) WAP to read first 5 lines from the text file."
   ]
  },
  {
   "cell_type": "code",
   "execution_count": 27,
   "metadata": {},
   "outputs": [
    {
     "name": "stdout",
     "output_type": "stream",
     "text": [
      "Hello\n",
      "\n",
      "Hoe Are You\n",
      "\n",
      "Hello\n",
      "\n",
      "Hoe Are You\n",
      "\n",
      "Hello\n",
      "\n"
     ]
    }
   ],
   "source": [
    "fp = open(\"Text.txt\",\"rt\")\n",
    "for i in range(5):\n",
    "    print(fp.readline())"
   ]
  },
  {
   "cell_type": "markdown",
   "metadata": {},
   "source": [
    "### 04) WAP to find the longest word(s) in a file"
   ]
  },
  {
   "cell_type": "code",
   "execution_count": 29,
   "metadata": {},
   "outputs": [
    {
     "name": "stdout",
     "output_type": "stream",
     "text": [
      "YouHello\n",
      "8\n"
     ]
    }
   ],
   "source": [
    "fp = open(\"Text.txt\",\"rt\")\n",
    "word=fp.read().split()\n",
    "max_length=max(len(word) for word in word)\n",
    "for i in word:\n",
    "    if(len(i)==max_length):\n",
    "        print(i)\n",
    "print(max_length)\n",
    "fp.close()"
   ]
  },
  {
   "cell_type": "markdown",
   "metadata": {},
   "source": [
    "### 05) WAP to count the no. of lines, words and characters in a given text file."
   ]
  },
  {
   "cell_type": "code",
   "execution_count": 42,
   "metadata": {},
   "outputs": [
    {
     "name": "stdout",
     "output_type": "stream",
     "text": [
      "['Hello', 'Hoe', 'Are', 'You', 'Hello', 'Hoe', 'Are', 'You', 'Hello', 'Hoe', 'Are', 'YouHello', 'Hoe', 'Are', 'You']\n",
      "15\n",
      "7\n",
      "70\n"
     ]
    }
   ],
   "source": [
    "fp = open(\"Text.txt\",\"rt\")\n",
    "countchar=0\n",
    "word=fp.read().split()\n",
    "print(word)\n",
    "countword=0\n",
    "for i in word:\n",
    "    countword+=1\n",
    "linecount=0\n",
    "fp.seek(0,0)\n",
    "for j in fp:\n",
    "    countchar=countchar+len(j)\n",
    "    linecount+=1\n",
    "print(countword)    \n",
    "print(linecount)   \n",
    "print(countchar)"
   ]
  },
  {
   "cell_type": "markdown",
   "metadata": {},
   "source": [
    "### 06) WAP to copy the content of a file to the another file."
   ]
  },
  {
   "cell_type": "code",
   "execution_count": 43,
   "metadata": {},
   "outputs": [],
   "source": [
    "fp = open(\"Text.txt\",\"rt\")\n",
    "lines=fp.read()\n",
    "\n",
    "fp = open(\"new.txt\",\"wt\")\n",
    "fp.write(lines)\n",
    "\n"
   ]
  },
  {
   "cell_type": "markdown",
   "metadata": {},
   "source": [
    "### 07) WAP to find the size of the text file. "
   ]
  },
  {
   "cell_type": "code",
   "execution_count": null,
   "metadata": {},
   "outputs": [],
   "source": [
    "fp = open(\"Text.txt\",\"rt\")\n",
    "size=len(fp.read())\n",
    "print(size)\n",
    "fp.close()"
   ]
  },
  {
   "cell_type": "markdown",
   "metadata": {},
   "source": [
    "### 08) WAP to create an UDF named frequency to count occurances of the specific word in a given text file."
   ]
  },
  {
   "cell_type": "code",
   "execution_count": null,
   "metadata": {},
   "outputs": [],
   "source": [
    "def count_word_in_file(words, word):\n",
    "    count = words.count(word)\n",
    "    return count\n",
    "fp = open(\"Text.txt\",\"rt\")\n",
    "data = fp.read()\n",
    "word = \"Hello\"\n",
    "words = data.split()\n",
    "fp.close()\n",
    "\n",
    "print(count_word_in_file(words, word))"
   ]
  },
  {
   "cell_type": "markdown",
   "metadata": {},
   "source": [
    "### 09) WAP to get the score of five subjects from the user, store them in a file. Fetch those marks and find the highest score."
   ]
  },
  {
   "cell_type": "code",
   "execution_count": null,
   "metadata": {},
   "outputs": [],
   "source": [
    "fp = open(\"score.txt\", \"w\") \n",
    "for i in range(1, 6):\n",
    "    scores = input(f\"Enter the score for subject {i}: \")\n",
    "    fp.write(scores)\n",
    "fp.close()\n",
    "\n",
    "fp = open(\"score.txt\", \"r\") \n",
    "fp.readlines()\n",
    "scores = [int(score.strip()) for score in scores]\n",
    "highest_score = max(scores)\n",
    "print(highest_score)\n",
    "fp.close()"
   ]
  },
  {
   "cell_type": "markdown",
   "metadata": {},
   "source": [
    "### 10) WAP to write first 100 prime numbers to a file named primenumbers.txt \n",
    "(Note: each number should be in new line)"
   ]
  },
  {
   "cell_type": "code",
   "execution_count": null,
   "metadata": {},
   "outputs": [],
   "source": [
    "fp = open(\"primenumbers.txt\",\"x\")   "
   ]
  },
  {
   "cell_type": "markdown",
   "metadata": {},
   "source": [
    "### 11) WAP to merge two files and write it in a new file."
   ]
  },
  {
   "cell_type": "code",
   "execution_count": 53,
   "metadata": {},
   "outputs": [
    {
     "name": "stdout",
     "output_type": "stream",
     "text": [
      "\n"
     ]
    }
   ],
   "source": [
    " fp = open(\"Text.txt\",\"rt\")\n",
    "lines=fp.read()\n",
    "\n",
    "fp1 = open(\"new.txt\",\"rt\")\n",
    "lines1=fp1.read()\n",
    "\n",
    "fp2= open(\"new2.txt\",\"a+\")\n",
    "\n",
    "fp2.write(lines)\n",
    "fp2.write(lines1)\n",
    "\n",
    "print(fp2.read())\n"
   ]
  },
  {
   "cell_type": "markdown",
   "metadata": {},
   "source": [
    "### 12) WAP to replace word1 by word2 of a text file. Write the updated data to new file."
   ]
  },
  {
   "cell_type": "code",
   "execution_count": null,
   "metadata": {},
   "outputs": [],
   "source": []
  },
  {
   "cell_type": "markdown",
   "metadata": {},
   "source": [
    "### 13) Demonstrate tell() and seek() for all the cases(seek from beginning-end-current position) taking a suitable example of your choice."
   ]
  },
  {
   "cell_type": "code",
   "execution_count": null,
   "metadata": {},
   "outputs": [],
   "source": []
  }
 ],
 "metadata": {
  "kernelspec": {
   "display_name": "Python 3 (ipykernel)",
   "language": "python",
   "name": "python3"
  },
  "language_info": {
   "codemirror_mode": {
    "name": "ipython",
    "version": 3
   },
   "file_extension": ".py",
   "mimetype": "text/x-python",
   "name": "python",
   "nbconvert_exporter": "python",
   "pygments_lexer": "ipython3",
   "version": "3.10.9"
  }
 },
 "nbformat": 4,
 "nbformat_minor": 4
}
