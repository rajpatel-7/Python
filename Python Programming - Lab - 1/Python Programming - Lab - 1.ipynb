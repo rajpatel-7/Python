{
 "cells": [
  {
   "cell_type": "markdown",
   "metadata": {},
   "source": [
    "<a href='https://www.darshan.ac.in/'> <img src='https://www.darshan.ac.in/Content/media/DU_Logo.svg' width=\"250\" height=\"10\"/></a>\n",
    "<pre>\n",
    "<center><b><h1>Python Programming - 2301CS404</b></center>\n",
    "<center><b><h1>Raj Vekariya | 23010101298 | 25-11-2024</b></center>    \n",
    "<pre>"
   ]
  },
  {
   "cell_type": "markdown",
   "metadata": {},
   "source": [
    "### 01) WAP to print “Hello World”"
   ]
  },
  {
   "cell_type": "code",
   "execution_count": 1,
   "metadata": {},
   "outputs": [
    {
     "name": "stdout",
     "output_type": "stream",
     "text": [
      "Hello World\n"
     ]
    }
   ],
   "source": [
    "print(\"Hello World\")"
   ]
  },
  {
   "cell_type": "markdown",
   "metadata": {},
   "source": [
    "02) WAP to print addition of two numbers with and without using input()."
   ]
  },
  {
   "cell_type": "code",
   "execution_count": 4,
   "metadata": {},
   "outputs": [
    {
     "name": "stdout",
     "output_type": "stream",
     "text": [
      "30\n",
      "Enter number 1: 66\n",
      "Enter number 2: 56\n",
      "122\n"
     ]
    }
   ],
   "source": [
    "a=10\n",
    "b=20\n",
    "print(a+b)\n",
    "a=int(input(\"Enter number 1: \"))\n",
    "b=int(input(\"Enter number 2: \"))\n",
    "print(a+b)"
   ]
  },
  {
   "cell_type": "markdown",
   "metadata": {},
   "source": [
    "### 03) WAP to check the type of the variable."
   ]
  },
  {
   "cell_type": "code",
   "execution_count": 16,
   "metadata": {
    "scrolled": false
   },
   "outputs": [
    {
     "data": {
      "text/plain": [
       "int"
      ]
     },
     "execution_count": 16,
     "metadata": {},
     "output_type": "execute_result"
    }
   ],
   "source": [
    "a=10\n",
    "type(a)"
   ]
  },
  {
   "cell_type": "markdown",
   "metadata": {},
   "source": [
    "### 04) WAP to calculate simple interest."
   ]
  },
  {
   "cell_type": "code",
   "execution_count": 23,
   "metadata": {},
   "outputs": [
    {
     "name": "stdout",
     "output_type": "stream",
     "text": [
      "Enter principle amount: 500000\n",
      "Enter rate of interest: 1000\n",
      "Enter amount of time: 56\n",
      "Simple Interest= 280000000.0\n",
      "Total amount= 280500000.0\n"
     ]
    }
   ],
   "source": [
    "p=float(input(\"Enter principle amount: \"))\n",
    "r=float(input(\"Enter rate of interest: \"))\n",
    "t=float(input(\"Enter amount of time: \"))\n",
    "\n",
    "SI=(p*r*t)/100\n",
    "\n",
    "print(\"Simple Interest=\",SI)\n",
    "print(\"Total amount=\",SI+p)"
   ]
  },
  {
   "cell_type": "markdown",
   "metadata": {},
   "source": [
    "### 05) WAP to calculate area and perimeter of a circle."
   ]
  },
  {
   "cell_type": "code",
   "execution_count": 30,
   "metadata": {},
   "outputs": [
    {
     "name": "stdout",
     "output_type": "stream",
     "text": [
      "Enter radious of circle: 10\n",
      "Perimeter of circle is  62.83\n",
      "Area of circle is  314.16\n"
     ]
    }
   ],
   "source": [
    "import math\n",
    "\n",
    "r=float(input(\"Enter radious of circle: \"))\n",
    "\n",
    "c=2*math.pi*r\n",
    "print(\"Perimeter of circle is \" , \"%.2f\" %c)\n",
    "a=math.pi*r*r\n",
    "print(\"Area of circle is \" , \"%.2f\" %a)"
   ]
  },
  {
   "cell_type": "markdown",
   "metadata": {},
   "source": [
    "### 06) WAP to calculate area of a triangle."
   ]
  },
  {
   "cell_type": "code",
   "execution_count": 31,
   "metadata": {},
   "outputs": [
    {
     "name": "stdout",
     "output_type": "stream",
     "text": [
      "Enter base of triangle: 25\n",
      "Enter height of triangle: 30\n",
      "Area of circle is  375.00\n"
     ]
    }
   ],
   "source": [
    "b=float(input(\"Enter base of triangle: \"))\n",
    "h=float(input(\"Enter height of triangle: \"))\n",
    "\n",
    "a=(b*h)/2\n",
    "print(\"Area of circle is \" , \"%.2f\" %a)"
   ]
  },
  {
   "cell_type": "markdown",
   "metadata": {},
   "source": [
    "### 07) WAP to compute quotient and remainder."
   ]
  },
  {
   "cell_type": "code",
   "execution_count": 34,
   "metadata": {},
   "outputs": [
    {
     "name": "stdout",
     "output_type": "stream",
     "text": [
      "Enter dividend: 5\n",
      "Enter divider: 2\n",
      "Quotient= 2.0\n",
      "Reminder= 1.0\n"
     ]
    }
   ],
   "source": [
    "a=float(input(\"Enter dividend: \"))\n",
    "b=float(input(\"Enter divider: \"))\n",
    "\n",
    "q=a//b\n",
    "#If you do single slash than answer come in point\n",
    "r=a%b\n",
    "\n",
    "print(\"Quotient=\",q)\n",
    "print(\"Reminder=\",r)"
   ]
  },
  {
   "cell_type": "markdown",
   "metadata": {},
   "source": [
    "### 08) WAP to convert degree into Fahrenheit and vice versa."
   ]
  },
  {
   "cell_type": "code",
   "execution_count": 39,
   "metadata": {},
   "outputs": [
    {
     "name": "stdout",
     "output_type": "stream",
     "text": [
      "Enter Degree: -40\n",
      "Enter Farenheit: -40\n",
      "Celcius to Farenheit -40.0\n",
      "Farenheit to Celcius -40.0\n"
     ]
    }
   ],
   "source": [
    "c=float(input(\"Enter Degree: \"))\n",
    "f=float(input(\"Enter Farenheit: \"))\n",
    "\n",
    "ctof=(c*(9/5))+32 \n",
    "ftoc=(f-32)*5/9\n",
    "\n",
    "print(\"Celcius to Farenheit\",ctof)\n",
    "print(\"Farenheit to Celcius\",ftoc)"
   ]
  },
  {
   "cell_type": "markdown",
   "metadata": {},
   "source": [
    "### 09) WAP to find the distance between two points in 2-D space."
   ]
  },
  {
   "cell_type": "code",
   "execution_count": 42,
   "metadata": {},
   "outputs": [
    {
     "name": "stdout",
     "output_type": "stream",
     "text": [
      "Enter x cordinate of point A: 1\n",
      "Enter y cordinate of point A: 1\n",
      "Enter x cordinate of point B: 2\n",
      "Enter y cordinate of point B: 2\n",
      "Distance between 2 point is 1.4142\n"
     ]
    }
   ],
   "source": [
    "x1=int(input(\"Enter x cordinate of point A: \"))\n",
    "y1=int(input(\"Enter y cordinate of point A: \"))\n",
    "x2=int(input(\"Enter x cordinate of point B: \"))\n",
    "y2=int(input(\"Enter y cordinate of point B: \"))\n",
    "\n",
    "distance=math.sqrt((x2-x1)**2+(y2-y1)**2)\n",
    "print(\"Distance between 2 point is\",\"%.4f\"%distance)"
   ]
  },
  {
   "cell_type": "markdown",
   "metadata": {},
   "source": [
    "### 10) WAP to print sum of n natural numbers."
   ]
  },
  {
   "cell_type": "code",
   "execution_count": 48,
   "metadata": {},
   "outputs": [
    {
     "name": "stdout",
     "output_type": "stream",
     "text": [
      "Enter number upto where you want to sum: 10\n",
      "55.0\n"
     ]
    }
   ],
   "source": [
    "n=int(input(\"Enter number upto where you want to sum: \"))\n",
    "# sum=0\n",
    "# for i in range(n+1):\n",
    "#     sum+=i\n",
    "sum=(n*(n+1))/2\n",
    "print(sum)"
   ]
  },
  {
   "cell_type": "markdown",
   "metadata": {},
   "source": [
    "### 11) WAP to print sum of square of n natural numbers."
   ]
  },
  {
   "cell_type": "code",
   "execution_count": 50,
   "metadata": {},
   "outputs": [
    {
     "name": "stdout",
     "output_type": "stream",
     "text": [
      "Enter number upto where you want to sum: 20\n",
      "2870\n"
     ]
    }
   ],
   "source": [
    "n=int(input(\"Enter number upto where you want to sum: \"))\n",
    "\n",
    "sqr=0\n",
    "for i in range(n+1):\n",
    "    sqr+=i**2\n",
    "    \n",
    "print(sqr)"
   ]
  },
  {
   "cell_type": "markdown",
   "metadata": {},
   "source": [
    "### 12) WAP to concate the first and last name of the student."
   ]
  },
  {
   "cell_type": "code",
   "execution_count": null,
   "metadata": {},
   "outputs": [],
   "source": []
  },
  {
   "cell_type": "markdown",
   "metadata": {},
   "source": [
    "### 13) WAP to swap two numbers."
   ]
  },
  {
   "cell_type": "code",
   "execution_count": null,
   "metadata": {},
   "outputs": [],
   "source": []
  },
  {
   "cell_type": "markdown",
   "metadata": {},
   "source": [
    "### 14) WAP to get the distance from user into kilometer, and convert it into meter, feet, inches and centimeter."
   ]
  },
  {
   "cell_type": "code",
   "execution_count": null,
   "metadata": {},
   "outputs": [],
   "source": []
  },
  {
   "cell_type": "markdown",
   "metadata": {},
   "source": [
    "### 15) WAP to get day, month and year from the user and print the date in the given format: 23-11-2024."
   ]
  },
  {
   "cell_type": "code",
   "execution_count": null,
   "metadata": {},
   "outputs": [],
   "source": []
  }
 ],
 "metadata": {
  "celltoolbar": "Raw Cell Format",
  "kernelspec": {
   "display_name": "Python 3 (ipykernel)",
   "language": "python",
   "name": "python3"
  },
  "language_info": {
   "codemirror_mode": {
    "name": "ipython",
    "version": 3
   },
   "file_extension": ".py",
   "mimetype": "text/x-python",
   "name": "python",
   "nbconvert_exporter": "python",
   "pygments_lexer": "ipython3",
   "version": "3.10.9"
  },
  "vscode": {
   "interpreter": {
    "hash": "31f2aee4e71d21fbe5cf8b01ff0e069b9275f58929596ceb00d14d90e3e16cd6"
   }
  }
 },
 "nbformat": 4,
 "nbformat_minor": 4
}
